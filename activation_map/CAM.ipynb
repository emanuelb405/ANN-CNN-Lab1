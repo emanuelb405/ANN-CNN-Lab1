{
  "nbformat": 4,
  "nbformat_minor": 0,
  "metadata": {
    "colab": {
      "name": "CAM.ipynb",
      "version": "0.3.2",
      "provenance": [],
      "toc_visible": true
    },
    "kernelspec": {
      "name": "python3",
      "display_name": "Python 3"
    },
    "accelerator": "TPU"
  },
  "cells": [
    {
      "metadata": {
        "id": "8C93G842W5iW",
        "colab_type": "code",
        "colab": {}
      },
      "cell_type": "code",
      "source": [
        "!wget https://ceb.nlm.nih.gov/proj/malaria/cell_images.zip\n",
        "!unzip cell_images.zip"
      ],
      "execution_count": 0,
      "outputs": []
    },
    {
      "metadata": {
        "id": "_thvExDCNDe6",
        "colab_type": "code",
        "colab": {}
      },
      "cell_type": "code",
      "source": [
        "from keras.models import Sequential\n",
        "from keras.layers import Conv2D,MaxPooling2D,Flatten,Dense,Dropout,Lambda,ZeroPadding2D\n",
        "import keras as keras\n",
        "from keras import backend as K\n",
        "import h5py"
      ],
      "execution_count": 0,
      "outputs": []
    },
    {
      "metadata": {
        "id": "XrV1cO07dBwd",
        "colab_type": "code",
        "colab": {}
      },
      "cell_type": "code",
      "source": [
        "def global_average_pooling(x):\n",
        "    return K.mean(x, axis = (2, 3))\n",
        "\n",
        "def global_average_pooling_shape(input_shape):\n",
        "    return input_shape[0:2]"
      ],
      "execution_count": 0,
      "outputs": []
    },
    {
      "metadata": {
        "id": "zTr9T2R67rGI",
        "colab_type": "code",
        "colab": {}
      },
      "cell_type": "code",
      "source": [
        "#generate network\n",
        "model = Sequential()\n",
        "model.add(Conv2D(64,3,strides=3,input_shape=(128,128,3),activation='relu',data_format = \"channels_last\"))\n",
        "model.add(MaxPooling2D(pool_size=(1,1)))\n",
        "model.add(Conv2D(32,2,strides=2,activation='relu'))\n",
        "model.add(Conv2D(32,2,strides=2,activation='relu'))\n",
        "\n",
        "\n",
        "\n",
        "\n",
        "model.add(MaxPooling2D(pool_size=(2,2)))\n",
        "model.add(Conv2D(64,3,strides=3,activation='relu'))\n",
        "\n",
        "\n",
        "model.add(Lambda(global_average_pooling, output_shape=global_average_pooling_shape))\n",
        "\n",
        "#model.add(Dense(units = 128,activation='relu'))\n",
        "#model.add(Dropout(0.1))\n",
        "\n",
        "model.add(Dense(2, activation = 'softmax', init='uniform'))\n",
        "#sgd = SGD(lr=0.01, decay=1e-6, momentum=0.5, nesterov=True)\n",
        "#model.compile(loss = 'categorical_crossentropy', optimizer = sgd, metrics=['accuracy'])\n",
        "model.compile(optimizer='adam',loss='categorical_crossentropy',metrics=['accuracy'])\n",
        "print(model.summary())"
      ],
      "execution_count": 0,
      "outputs": []
    },
    {
      "metadata": {
        "id": "OnTsevaR7frf",
        "colab_type": "code",
        "colab": {}
      },
      "cell_type": "code",
      "source": [
        "from keras.utils.vis_utils import plot_model\n",
        "plot_model(model, to_file='model_plot.png', show_shapes=True, show_layer_names=True)"
      ],
      "execution_count": 0,
      "outputs": []
    },
    {
      "metadata": {
        "id": "6yUsRFGeTsro",
        "colab_type": "code",
        "colab": {}
      },
      "cell_type": "code",
      "source": [
        "from keras.preprocessing.image import ImageDataGenerator"
      ],
      "execution_count": 0,
      "outputs": []
    },
    {
      "metadata": {
        "id": "TyasQz_6njOp",
        "colab_type": "code",
        "colab": {}
      },
      "cell_type": "code",
      "source": [
        "train_datagen = ImageDataGenerator(\n",
        "        rescale=1./255,\n",
        "        shear_range=0.2,\n",
        "        zoom_range=0.2,\n",
        "        horizontal_flip=True,\n",
        "        validation_split= 0.1)\n",
        "\n",
        "test_datagen = ImageDataGenerator(validation_split= 0.1)\n",
        "\n",
        "training_set = train_datagen.flow_from_directory('cell_images',\n",
        "                                                  target_size=(128, 128),\n",
        "                                                  batch_size=32,\n",
        "                                                  class_mode='categorical',\n",
        "                                                 subset = 'training',\n",
        "                                                  shuffle = True)\n",
        "\n",
        "test_set = test_datagen.flow_from_directory('cell_images',\n",
        "                                            target_size=(128, 128),\n",
        "                                            batch_size=32,\n",
        "                                            class_mode='categorical', \n",
        "                                            subset = 'validation',\n",
        "                                            shuffle = True)\n"
      ],
      "execution_count": 0,
      "outputs": []
    },
    {
      "metadata": {
        "id": "jVDktPaZxV6j",
        "colab_type": "code",
        "colab": {}
      },
      "cell_type": "code",
      "source": [
        "from keras.callbacks import ModelCheckpoint, EarlyStopping, TensorBoard, CSVLogger, ReduceLROnPlateau\n",
        "\n",
        "checkpoint = ModelCheckpoint(\n",
        "    './base.model',\n",
        "    monitor='val_loss',\n",
        "    verbose=1,\n",
        "    save_best_only=True,\n",
        "    mode='min',\n",
        "    save_weights_only=False,\n",
        "    period=1\n",
        ")\n",
        "earlystop = EarlyStopping(\n",
        "    monitor='val_loss',\n",
        "    min_delta=0.001,\n",
        "    patience=30,\n",
        "    verbose=1,\n",
        "    mode='auto'\n",
        ")\n",
        "tensorboard = TensorBoard(\n",
        "    log_dir = './logs',\n",
        "    histogram_freq=0,\n",
        "    batch_size=16,\n",
        "    write_graph=True,\n",
        "    write_grads=True,\n",
        "    write_images=False,\n",
        ")\n",
        "\n",
        "csvlogger = CSVLogger(\n",
        "    filename= \"training_csv.log\",\n",
        "    separator = \",\",\n",
        "    append = False\n",
        ")\n",
        "\n",
        "reduce = ReduceLROnPlateau(\n",
        "    monitor='val_loss',\n",
        "    factor=0.1,\n",
        "    patience=3,\n",
        "    verbose=1, \n",
        "    mode='auto'\n",
        ")\n",
        "\n",
        "callbacks = [checkpoint,tensorboard,csvlogger,reduce]"
      ],
      "execution_count": 0,
      "outputs": []
    },
    {
      "metadata": {
        "id": "cmpqfz75vRMB",
        "colab_type": "code",
        "colab": {}
      },
      "cell_type": "code",
      "source": [
        "history = model.fit_generator(training_set,\n",
        "                    steps_per_epoch=24804//32,\n",
        "                    epochs=1,\n",
        "                    validation_data=test_set,\n",
        "                    callbacks = callbacks,\n",
        "                    validation_steps=2754/32)"
      ],
      "execution_count": 0,
      "outputs": []
    },
    {
      "metadata": {
        "id": "rb4cYX-IgTPh",
        "colab_type": "code",
        "colab": {}
      },
      "cell_type": "code",
      "source": [
        "import cv2\n",
        "import numpy as np\n",
        "cv2.__version__"
      ],
      "execution_count": 0,
      "outputs": []
    },
    {
      "metadata": {
        "id": "5tPMhNk4lavu",
        "colab_type": "code",
        "colab": {}
      },
      "cell_type": "code",
      "source": [
        "\n",
        "def get_output_layer(model, layer_name):\n",
        "    # get the symbolic outputs of each \"key\" layer (we gave them unique names).\n",
        "    layer_dict = dict([(layer.name, layer) for layer in model.layers])\n",
        "    layer = layer_dict[layer_name]\n",
        "    return layer"
      ],
      "execution_count": 0,
      "outputs": []
    },
    {
      "metadata": {
        "id": "6xhxdk0zhB4L",
        "colab_type": "code",
        "colab": {}
      },
      "cell_type": "code",
      "source": [
        "def visualize_class_activation_map(model, img_path, output_path):\n",
        "        original_img = cv2.imread(img_path)\n",
        "        unmodified = original_img\n",
        "        width, height, _ = original_img.shape\n",
        "        print(original_img.shape)\n",
        "        original_img = cv2.resize(original_img, dsize=(128, 128), interpolation=cv2.INTER_CUBIC)\n",
        "        print(original_img.shape)\n",
        "        \n",
        "        #Reshape to the network input shape (3, w, h).\n",
        "        img = np.array([np.transpose(np.float32(original_img), (1, 0, 2))])\n",
        "        \n",
        "        #Get the 512 input weights to the softmax.\n",
        "        class_weights = model.layers[-1].get_weights()[0]\n",
        "        final_conv_layer = get_output_layer(model, \"conv2d_4\")\n",
        "        get_output = K.function([model.layers[0].input], [final_conv_layer.output, model.layers[-1].output])\n",
        "        [conv_outputs, predictions] = get_output([img])\n",
        "        conv_outputs = conv_outputs[0, :, :, :]\n",
        "\n",
        "        #Create the class activation map.\n",
        "        cam = np.zeros(dtype = np.float32, shape = conv_outputs.shape[1:3])\n",
        "        for i, w in enumerate(class_weights[:, 1]):\n",
        "                cam += w * conv_outputs[i, :, :]\n",
        "        print('predictions', predictions)\n",
        "        cam /= np.max(cam)\n",
        "        cam = cv2.resize(cam, (height, width))\n",
        "        heatmap = cv2.applyColorMap(np.uint8(255*cam), cv2.COLORMAP_JET)\n",
        "        heatmap[np.where(cam < 0.2)] = 0\n",
        "        img = heatmap*0.5 + unmodified\n",
        "        cv2.imwrite(output_path, img)"
      ],
      "execution_count": 0,
      "outputs": []
    },
    {
      "metadata": {
        "id": "ri20bOM_hB0a",
        "colab_type": "code",
        "colab": {}
      },
      "cell_type": "code",
      "source": [
        "img_path = 'cell_images/Parasitized/C100P61ThinF_IMG_20150918_144104_cell_165.png'\n",
        "out_path = \"cam.jpg\"\n",
        "visualize_class_activation_map(model, img_path, out_path)"
      ],
      "execution_count": 0,
      "outputs": []
    },
    {
      "metadata": {
        "id": "00wXD6KLhBvC",
        "colab_type": "code",
        "colab": {}
      },
      "cell_type": "code",
      "source": [
        "!cp cell_images/Uninfected/C100P61ThinF_IMG_20150918_145422_cell_3.png uninfected.png"
      ],
      "execution_count": 0,
      "outputs": []
    },
    {
      "metadata": {
        "id": "53CA_MhTF4L5",
        "colab_type": "code",
        "colab": {}
      },
      "cell_type": "code",
      "source": [
        ""
      ],
      "execution_count": 0,
      "outputs": []
    }
  ]
}